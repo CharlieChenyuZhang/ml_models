{
  "nbformat": 4,
  "nbformat_minor": 0,
  "metadata": {
    "colab": {
      "name": "kNN_tf.ipynb",
      "version": "0.3.2",
      "provenance": [],
      "collapsed_sections": [],
      "include_colab_link": true
    },
    "kernelspec": {
      "name": "python3",
      "display_name": "Python 3"
    }
  },
  "cells": [
    {
      "cell_type": "markdown",
      "metadata": {
        "id": "view-in-github",
        "colab_type": "text"
      },
      "source": [
        "<a href=\"https://colab.research.google.com/github/CharlieChenyuZhang/ml_models/blob/master/kNN_tf.ipynb\" target=\"_parent\"><img src=\"https://colab.research.google.com/assets/colab-badge.svg\" alt=\"Open In Colab\"/></a>"
      ]
    },
    {
      "metadata": {
        "id": "wMHuHY8bQIvZ",
        "colab_type": "code",
        "colab": {
          "base_uri": "https://localhost:8080/",
          "height": 102
        },
        "outputId": "1e09c93c-3486-4a96-fadf-c5158be8d8b8"
      },
      "cell_type": "code",
      "source": [
        "\"\"\"\n",
        "Credit: https://github.com/Mujadded/knn-with-tensorflow/blob/master/k-nearest.py\n",
        "\"\"\"\n",
        "\n",
        "################################################################################\n",
        "#########################Build a graph##########################################\n",
        "################################################################################\n",
        "\n",
        "#import libraries\n",
        "from __future__ import print_function\n",
        "import tensorflow as tf\n",
        "import numpy as np\n",
        "from tensorflow.contrib.learn.python.learn.datasets.mnist import read_data_sets\n",
        "\n",
        "#importing the data\n",
        "mnist=read_data_sets(\"data\",one_hot=True)\n",
        "\n",
        "#saving the datasets A.K.A Traning\n",
        "# select 5000 images from MNIST as training data\n",
        "# select 200 images from MNIST as test data\n",
        "X_traning,Y_traning=mnist.train.next_batch(5000)\n",
        "X_test,Y_test=mnist.test.next_batch(200)\n",
        "\n",
        "#placeholders for variable to be used in model\n",
        "#[None,28*28] because images in MNIST are 28x28 and we flaten it to a 2-D tensor\n",
        "#[None,10] because of 10 categories from 0 - 9\n",
        "xtr=tf.placeholder(tf.float32,[None,28*28]) #traning input\n",
        "ytr=tf.placeholder(tf.float32,[None,10]) #traning label\n",
        "xte=tf.placeholder(tf.float32,[28*28]) #testing input\n",
        "\n",
        "#K-nearest\n",
        "#NOTE: This is the hyperparameter you can change\n",
        "K=10 #how many neighbors\n",
        "nearest_neighbors=tf.Variable(tf.zeros([K]))\n",
        "\n",
        "#model\n",
        "#find the L1 distance\n",
        "distance = tf.negative(tf.reduce_sum(tf.abs(tf.subtract(xtr, xte)),axis=1))\n",
        "#tf.nn.top_k finds the k largest entries, tf.negative so that nn.top_k returns\n",
        "# the result we want since we want to find k smallest\n",
        "values,indices=tf.nn.top_k(distance,k=K,sorted=False)\n",
        "\n",
        "#a normal list to save\n",
        "nn = []\n",
        "for i in range(K):\n",
        "    nn.append(tf.argmax(ytr[indices[i]], 0)) #taking the result indexes\n",
        "\n",
        "#saving list in tensor variable\n",
        "nearest_neighbors=nn\n",
        "#this will return the unique neighbors the count will return the most common's index\n",
        "y, idx, count = tf.unique_with_counts(nearest_neighbors)\n",
        "\n",
        "#pred is an integer representing the category of the digit\n",
        "#suppose a is array([11,  1,  1,  1,  2,  2,  2,  3,  3,  4,  4,  4,  4,  4,  4,  4]) so unique_with_counts of a will\n",
        "#return y= (array([ 1,  2,  3,  4, 11]) count= array([3, 3, 2, 7, 1])) so argmax of count will be 3 which will be the\n",
        "#index of 4 in y which is the hight number in a\n",
        "pred = tf.slice(y, begin=[tf.argmax(count, 0)], size=tf.constant([1], dtype=tf.int64))[0]\n",
        "\n",
        "#initialize accuracy to 0\n",
        "#initialize of all variables\n",
        "accuracy=0\n",
        "init=tf.global_variables_initializer()\n",
        "\n",
        "################################################################################\n",
        "##############################TF Session########################################\n",
        "################################################################################\n",
        "\n",
        "#start of tensor session\n",
        "with tf.Session() as sess:\n",
        "    for i in range(X_test.shape[0]):\n",
        "        #return the predicted value\n",
        "        #each X_test[i,:] is each test data, a 28 x 28 array\n",
        "        #sess.run is the API to run the model and generate the prediction\n",
        "        predicted_value=sess.run(pred,feed_dict={xtr:X_traning,ytr:Y_traning,xte:X_test[i,:]})\n",
        "\n",
        "        # update accuracy\n",
        "        if predicted_value == np.argmax(Y_test[i]):\n",
        "            # if the prediction is right then a double value of 1./200 is added 200 here is the number of test\n",
        "                accuracy += 1. / len(X_test)\n",
        "\n",
        "#print out the accurascy\n",
        "print(K,\"-th neighbors' Accuracy is:\",accuracy)"
      ],
      "execution_count": 3,
      "outputs": [
        {
          "output_type": "stream",
          "text": [
            "Extracting data/train-images-idx3-ubyte.gz\n",
            "Extracting data/train-labels-idx1-ubyte.gz\n",
            "Extracting data/t10k-images-idx3-ubyte.gz\n",
            "Extracting data/t10k-labels-idx1-ubyte.gz\n",
            "10 -th neighbors' Accuracy is: 0.9350000000000007\n"
          ],
          "name": "stdout"
        }
      ]
    },
    {
      "metadata": {
        "id": "m1jPMFYgMqq9",
        "colab_type": "code",
        "colab": {}
      },
      "cell_type": "code",
      "source": [
        ""
      ],
      "execution_count": 0,
      "outputs": []
    }
  ]
}